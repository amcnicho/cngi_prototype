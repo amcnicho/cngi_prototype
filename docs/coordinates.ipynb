{
  "nbformat": 4,
  "nbformat_minor": 0,
  "metadata": {
    "colab": {
      "name": "coordinates.ipynb",
      "provenance": [],
      "collapsed_sections": [],
      "toc_visible": true,
      "authorship_tag": "ABX9TyOXx2ol5ULK/eKlZ5ZkNbph",
      "include_colab_link": true
    },
    "kernelspec": {
      "name": "python3",
      "display_name": "Python 3"
    }
  },
  "cells": [
    {
      "cell_type": "markdown",
      "metadata": {
        "id": "view-in-github",
        "colab_type": "text"
      },
      "source": [
        "<a href=\"https://colab.research.google.com/github/amcnicho/cngi_prototype/blob/master/docs/coordinates.ipynb\" target=\"_parent\"><img src=\"https://colab.research.google.com/assets/colab-badge.svg\" alt=\"Open In Colab\"/></a>"
      ]
    },
    {
      "cell_type": "markdown",
      "metadata": {
        "id": "P1MaUvBBKc0h",
        "colab_type": "text"
      },
      "source": [
        "# Coordinate Conversions\n",
        "\n",
        "The goal of this notebook is to demonstrate conversion of visibility and image data converted between spectral, spatial, and temporal reference frames using the next generation CASA infrastructure.\n",
        "\n",
        "Ideally, we would treat our units as a property of the data by wrapping dask arrays with pint quantities, optionally using a custom-defined context (for domain-specific units e.g., Jy/Beam). For details, see [relevant discussion](https://github.com/pydata/xarray/projects/2#card-35851549) and new [standalone package](https://github.com/TomNicholas/pint-xarray) for ongoing public concept demonstration efforts.\n",
        "\n",
        "That is not sufficiently mature or supported yet, so the alternative is to use existing conversion routines that operate on numpy ndarrays and parallelize across dask chunks using mapping functions or custom delayed calls."
      ]
    },
    {
      "cell_type": "markdown",
      "metadata": {
        "id": "BNcyWmH8t00H",
        "colab_type": "text"
      },
      "source": [
        "## Note: work in progress\n",
        "this section of the documentation is still under development and the code cells in this notebook will probably all throw some form of Exception if executed."
      ]
    },
    {
      "cell_type": "markdown",
      "metadata": {
        "id": "-ev5dCSfQUO1",
        "colab_type": "text"
      },
      "source": [
        "The following representative function definition should produce parallelized calls to a `topo_to_lsrk` (or analagous conversion) routine with array size corresponding to the chunk size of `(time,baseline,pol)`, for all channels.\n",
        "\n",
        "```python\n",
        "def topo_to_lsrk(input_array)\n",
        "    # call SkyCoord and other methods\n",
        "    output_array = function(input_array)\n",
        "    return output_array(axis=-1, keepdims=True)\n",
        "```\n",
        "\n",
        "Then we would call it like\n",
        "\n",
        "```python\n",
        "test = xarray.apply_ufunc(topo_to_lsrk, xds.DATA.chunk({'chan':-1}), input_core_dims=[['chan']], dask='parallelized', output_dtypes=[xds.DATA.dtype])\n",
        "output = test.compute()\n",
        "```\n",
        "\n",
        "This approach requires finding or creating a function that operates on numpy arrays instead of the astropy ndarray subclass or custom objects."
      ]
    },
    {
      "cell_type": "markdown",
      "metadata": {
        "id": "Fk6b-LdcKfxc",
        "colab_type": "text"
      },
      "source": [
        "## Frequency Reference Frames\n"
      ]
    },
    {
      "cell_type": "markdown",
      "metadata": {
        "id": "5RsxinUnP6KX",
        "colab_type": "text"
      },
      "source": [
        "The previous approach, following [official demos](http://learn.astropy.org/rst-tutorials/Coordinates-Transform.html) and other example notebooks from astropy docs using SkyCoord objects, yields\n",
        "\n",
        "```python\n",
        "TypeError: Position information stored on coordinate frame is insufficient to do a full-space position transformation (representation class: <class 'astropy.coordinates.representation.UnitSphericalRepresentation'>)\n",
        "```\n"
      ]
    },
    {
      "cell_type": "code",
      "metadata": {
        "id": "czVlF7QcOhTW",
        "colab_type": "code",
        "colab": {
          "base_uri": "https://localhost:8080/",
          "height": 34
        },
        "outputId": "a56ab586-6295-46fd-8b88-7d5a106e9d6a"
      },
      "source": [
        "!pip install --quiet astropy --upgrade\n",
        "import astropy\n",
        "astropy.__version__"
      ],
      "execution_count": 11,
      "outputs": [
        {
          "output_type": "execute_result",
          "data": {
            "text/plain": [
              "'4.0.1.post1'"
            ]
          },
          "metadata": {
            "tags": []
          },
          "execution_count": 11
        }
      ]
    },
    {
      "cell_type": "markdown",
      "metadata": {
        "id": "EUjJa_WyVGSJ",
        "colab_type": "text"
      },
      "source": [
        "Unless this is >= v4.1 we won't be able to use [SpectralCoord class](https://docs.astropy.org/en/latest/coordinates/spectralcoord.html#reference-frame-transformations), but here is how it could look"
      ]
    },
    {
      "cell_type": "code",
      "metadata": {
        "id": "2fVmK10bPq9k",
        "colab_type": "code",
        "colab": {}
      },
      "source": [
        "import numpy as np\n",
        "from astropy import units as u\n",
        "from astropy.coordinates import Angle\n",
        "from astropy.coordinates import EarthLocation\n",
        "from astropy.coordinates import SkyCoord\n",
        "from astropy.coordinates import SpectralCoord\n",
        "from astropy.time import Time"
      ],
      "execution_count": null,
      "outputs": []
    },
    {
      "cell_type": "markdown",
      "metadata": {
        "id": "TsszMgAqVZqP",
        "colab_type": "text"
      },
      "source": [
        "We'll need to specify the absolute position of observer and target to make use of the frame transformation methods. Luckily this information is usually carried with the ASDM/MS/image and if it isn't, there are ways to access reasonable defaults."
      ]
    },
    {
      "cell_type": "code",
      "metadata": {
        "id": "1xNbTMP3V-HC",
        "colab_type": "code",
        "colab": {}
      },
      "source": [
        "try:\n",
        "  vis_xds = cngi.dio.read_vis('some_vis.zarr', ddi=0)\n",
        "  global_xds = cngi.dio.read_vis('some_vis.zarr', ddi='global')\n",
        "  # these are just hacky ways to get a position for now and might now even work\n",
        "  location = global_xds['ASDM_POSITION'].mean().values\n",
        "  location = global_xds['ANT_POSITION'].mean().values\n",
        "except:\n",
        "  location = EarthLocation.of_site(global_xds['OBS_TELESCOPE_NAME'])"
      ],
      "execution_count": null,
      "outputs": []
    },
    {
      "cell_type": "markdown",
      "metadata": {
        "id": "4DWnjq-rXw0A",
        "colab_type": "text"
      },
      "source": [
        "A spectral reference requires time information in addition to spatial coordinates. Some string of the form `'2019-04-24T02:32:10'` is required, and to be in the TOPO frame (e.g., ALMA), this should be the start of the observation."
      ]
    },
    {
      "cell_type": "code",
      "metadata": {
        "id": "WpZ__ON2sgM0",
        "colab_type": "code",
        "colab": {}
      },
      "source": [
        "try:\n",
        "  observatory = location.get_itrs(obstime=vis_xds.time[0])\n",
        "except:\n",
        "  # if that fails maybe can convert from global properties\n",
        "  import datetime\n",
        "  time = global_xds['ASDM_startValidTime'][0]\n",
        "  time = global_xds.OBS_TIME_RANGE.values[0]\n",
        "  observatory = location.get_itrs(obstime=datetime.fromtimestamp(time))"
      ],
      "execution_count": null,
      "outputs": []
    },
    {
      "cell_type": "markdown",
      "metadata": {
        "id": "DXrG3Kj3bd5y",
        "colab_type": "text"
      },
      "source": [
        "Not only is the reference location of the \"observer\" required, the source properties must also be defined in the same frame of a form like `SkyCoord('04h21m59.43s +19d32m06.4', frame='icrs', radial_velocity=23.9 * u.km / u.s, distance=144.321 * u.pc)`.\n",
        "\n",
        "TODO: assign coordinate variables to d1, d2, d3 in vis.zarr"
      ]
    },
    {
      "cell_type": "code",
      "metadata": {
        "id": "zNzJ9whHhaDr",
        "colab_type": "code",
        "colab": {}
      },
      "source": [
        "# assuming these direction axes are sensibly and consistently defined in radians\n",
        "# either way, this will be far easier for images\n",
        "radec_string = Angle(global_xds.SRC_DIRECTION * u.rad, \n",
        "                     global_xds.SRC_DIRECTION * u.rad)\n",
        "\n",
        "# telescope dependent... is this is kept anywhere in the ASDM/MS/image formats?\n",
        "target_frame = 'FK5'\n",
        "\n",
        "# another assumption lacking coordinate associated with the d2 dimension\n",
        "recession = global_xds.SRC_PROPER_MOTION * u.Hz\n",
        "\n",
        "source = SkyCoord(radec_string, frame=target_frame, radial_velocity=recession)"
      ],
      "execution_count": null,
      "outputs": []
    },
    {
      "cell_type": "code",
      "metadata": {
        "id": "2bNvAZGMQFC_",
        "colab_type": "code",
        "colab": {}
      },
      "source": [
        "# initialize SpectralCoord instance from input xarray.Dataset\n",
        "\n",
        "# compute for return\n",
        "new_sc = sc.with_observer_stationary_relative_to('lsrk')"
      ],
      "execution_count": null,
      "outputs": []
    },
    {
      "cell_type": "markdown",
      "metadata": {
        "id": "hZd67R0NRria",
        "colab_type": "text"
      },
      "source": [
        "astropy adopts a standard definition of the LSR following [Schönrich et al. 2010](https://ui.adsabs.harvard.edu/abs/2010MNRAS.403.1829S/abstract). \n",
        "\n",
        "CASA supports a number of [spectral reference frames](https://casa.nrao.edu/casadocs/latest/memo-series/reference-material/spectral-frames) and the definition of LSR is encoded [in casacore](https://casacore.github.io/casacore/classcasacore_1_1MRadialVelocity.html#a42d02cf6a267b07f66e4c0b2e49d05d3) and seems to follow the references [published by Frank Ghigo at GBO](http://www.gb.nrao.edu/~fghigo/gbtdoc/doppler.html).\n",
        "\n"
      ]
    },
    {
      "cell_type": "markdown",
      "metadata": {
        "id": "l8afR5E4KgmB",
        "colab_type": "text"
      },
      "source": [
        "## Spatial Coordinates\n",
        "\n",
        "Currently it is assumed that all image coordinates have native units of radians, which should allow for consistent selection and conversion between different spatial quantities at the ngCASA and/or application layer."
      ]
    },
    {
      "cell_type": "code",
      "metadata": {
        "id": "d-OOkzuPpYXU",
        "colab_type": "code",
        "colab": {}
      },
      "source": [
        "from astropy import units as u\n",
        "from astropy.coordinates import EarthLocation\n",
        "from astropy.time import Time\n",
        "from astropy.coordinates import SkyCoord\n",
        "from astropy.coordinates import SpectralCoord\n",
        "from astropy.coordinates import AltAz"
      ],
      "execution_count": 4,
      "outputs": []
    },
    {
      "cell_type": "markdown",
      "metadata": {
        "id": "WDo4Tqf6pbKC",
        "colab_type": "text"
      },
      "source": [
        "These astropy modules allow us to manipulate quantities for unit-aware computation, including transformation between the reference frames in which data are represented."
      ]
    },
    {
      "cell_type": "code",
      "metadata": {
        "id": "vwcn2_ALpSm9",
        "colab_type": "code",
        "colab": {
          "base_uri": "https://localhost:8080/",
          "height": 52
        },
        "outputId": "5939ace2-32c0-4836-d655-9582d8f2ee21"
      },
      "source": [
        "VLA_lat = 34.1*u.degree\n",
        "VLA_lon = -107.6*u.degree\n",
        "VLA_alt = 2114.89*u.m\n",
        "print((VLA_lat, VLA_lon, VLA_alt))\n",
        "\n",
        "observing_location = EarthLocation(lat=VLA_lat, \n",
        "                                   lon=VLA_lon, \n",
        "                                   height=VLA_alt,\n",
        "                                   ellipsoid='WGS84')\n",
        "print(observing_location, type(observing_location))"
      ],
      "execution_count": 6,
      "outputs": [
        {
          "output_type": "stream",
          "text": [
            "(<Quantity 34.1 deg>, <Quantity -107.6 deg>, <Quantity 2114.89 m>)\n",
            "(-1599173.52082635, -5041233.67723585, 3556822.79344969) m <class 'astropy.coordinates.earth.EarthLocation'>\n"
          ],
          "name": "stdout"
        }
      ]
    },
    {
      "cell_type": "markdown",
      "metadata": {
        "id": "GIXHT50mpwJF",
        "colab_type": "text"
      },
      "source": [
        "Space and time are notoriously difficult to untangle, but since we can define locations, coordinates on the celestial sphere, and times, we can transform between these quantities."
      ]
    },
    {
      "cell_type": "code",
      "metadata": {
        "id": "cDh_CQF-pzCP",
        "colab_type": "code",
        "colab": {
          "base_uri": "https://localhost:8080/",
          "height": 69
        },
        "outputId": "7a87f706-2b89-40b4-9c43-b20f05afea85"
      },
      "source": [
        "reference_time = Time(['2019-10-4T00:00:00'], \n",
        "                        format='isot',\n",
        "                        scale='utc', \n",
        "                        location=observing_location)\n",
        "print(reference_time, type(reference_time))\n",
        "\n",
        "phase_center = SkyCoord(ra='19h59m28.5s', dec='+40d44m01.5s', frame='fk5')\n",
        "print(phase_center)"
      ],
      "execution_count": 8,
      "outputs": [
        {
          "output_type": "stream",
          "text": [
            "['2019-10-04T00:00:00.000'] <class 'astropy.time.core.Time'>\n",
            "<SkyCoord (FK5: equinox=J2000.000): (ra, dec) in deg\n",
            "    (299.86875, 40.73375)>\n"
          ],
          "name": "stdout"
        }
      ]
    },
    {
      "cell_type": "markdown",
      "metadata": {
        "id": "frx1oikmqH0u",
        "colab_type": "text"
      },
      "source": [
        "Converting between units is then as straightforward as:"
      ]
    },
    {
      "cell_type": "code",
      "metadata": {
        "id": "ydfQWu0Lp8RE",
        "colab_type": "code",
        "colab": {
          "base_uri": "https://localhost:8080/",
          "height": 89
        },
        "outputId": "0c7ac2be-f6a2-4a56-ceed-bcac87910057"
      },
      "source": [
        "alt_az_frame = AltAz(location=observing_location, obstime=reference_time)\n",
        "print(alt_az_frame)\n",
        "new_frame = phase_center.transform_to(alt_az_frame)\n",
        "print()\n",
        "print(\"Compare\",\n",
        "      (new_frame.az.radian,\n",
        "       new_frame.alt.radian),\n",
        "      \"and\",\n",
        "      (new_frame.az.degree, \n",
        "       new_frame.alt.degree))"
      ],
      "execution_count": 12,
      "outputs": [
        {
          "output_type": "stream",
          "text": [
            "<AltAz Frame (obstime=['2019-10-04T00:00:00.000'], location=(-1599173.52082635, -5041233.67723585, 3556822.79344969) m, pressure=0.0 hPa, temperature=0.0 deg_C, relative_humidity=0.0, obswl=1.0 micron)>\n",
            "\n",
            "Compare (array([1.1522305]), array([1.07222892])) and (array([66.01794453]), array([61.43419156]))\n"
          ],
          "name": "stdout"
        }
      ]
    },
    {
      "cell_type": "markdown",
      "metadata": {
        "id": "wEZudrToqXav",
        "colab_type": "text"
      },
      "source": [
        "We should ensure we are making use of the [higher-precision mode](https://docs.astropy.org/en/latest/coordinates/velocities.html#precision-of-radial-velocity-correction) when we implement radial velocity (and possibly all) corrections.\n",
        "\n",
        "It should also be possible to rely on `'axisunits'` or similar keys in the image Dataset attributes to set up a spectral frame for eager computation."
      ]
    },
    {
      "cell_type": "code",
      "metadata": {
        "id": "WwlMgH8dtHaZ",
        "colab_type": "code",
        "colab": {}
      },
      "source": [
        "sc = SpectralCoord(img_xds.DATA.chan, \n",
        "                   unit=astropy.units(img_xds.attrs['rest_frequency'].split('')[:-1]),\n",
        "                   observer=observatory,\n",
        "                   target= source, \n",
        "                   doppler_reference=img_xds.attrs['spectral__reference'],  \n",
        "                   doppler_convention=img_xds.attrs['velocity__type'])"
      ],
      "execution_count": null,
      "outputs": []
    },
    {
      "cell_type": "markdown",
      "metadata": {
        "id": "LmUfkMr5Lqap",
        "colab_type": "text"
      },
      "source": [
        "## Further reading\n",
        "\n",
        "CASA:\n",
        "* https://casa.nrao.edu/casadocs/latest/calibration-and-visibility-data/uv-manipulation/manipulating-visibilities-with-mstransform\n",
        "* https://casacore.github.io/python-casacore/casacore_measures.html#casacore.measures.measures.radialvelocity\n",
        "* https://casa.nrao.edu/docs/TaskRef/mstransform-task.html\n",
        "* https://casa.nrao.edu/docs/TaskRef/cvel-task.html\n",
        "\n",
        "astropy:\n",
        "* [source code for `icrs_to_lsr`](https://docs.astropy.org/en/stable/_modules/astropy/coordinates/builtin_frames/lsr.html)\n",
        "* GitHub links relevant to support for SpectralCoord\n",
        "  * https://github.com/astropy/specutils/issues/422\n",
        "  * https://github.com/astropy/specutils/pull/524\n",
        "\n",
        "kapteyn:\n",
        "* https://www.astro.rug.nl/software/kapteyn/wcs.html\n",
        "* https://www.astro.rug.nl/software/kapteyn/spectralbackground.html?highlight=lsrk"
      ]
    }
  ]
}